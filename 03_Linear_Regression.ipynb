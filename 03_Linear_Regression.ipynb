{
 "cells": [
  {
   "cell_type": "markdown",
   "metadata": {},
   "source": [
    "# Linear Regression with Python\n",
    "\n",
    "***By Alex Borio***"
   ]
  },
  {
   "cell_type": "markdown",
   "metadata": {},
   "source": [
    "<img src=\"https://blog.anybox.fr/content/images/size/w1140/2020/01/scikit-learn-1.png\" alt=\"350\" width=\"400\" align=\"left\"/>"
   ]
  },
  {
   "cell_type": "markdown",
   "metadata": {},
   "source": [
    "## Introduzione"
   ]
  },
  {
   "cell_type": "markdown",
   "metadata": {},
   "source": [
    "It is a Supervised Machine Learning model that tries to find out the best possible linear relationship between the input features (X) and the target variable (y). Formula:\n",
    "\n",
    "#### y= aX + b + 𝜀\n",
    "\n",
    "\n",
    "**It optimizes slope a and intercept b by reducing the residuals between the actual y and the predicted y.**\n",
    "\n",
    "To get the best weights/parameters, we usually minimize the sum of squared residuals (SSR) for all observations.\n",
    "\n",
    "The linear relation between the input features and the output in <u>2D is simply a line.</u>\n",
    "\n",
    "**Formula - Legend:**\n",
    "\n",
    "- y is the predicted value of the dependent variable (y) for any given value of the independent variable (x).\n",
    "- b is the intercept, the predicted value of y when the x is 0.\n",
    "- a is the regression coefficient – how much we expect y to change as x increases.\n",
    "- X is the independent variable ( the variable we expect is influencing y).\n",
    "- 𝜀 is the error term (The distance between each point and the line, so the variation in the dependent variable not explained by the independent variables.)\n"
   ]
  },
  {
   "cell_type": "markdown",
   "metadata": {},
   "source": [
    "<img src=\"https://github.com/lorisliusso/Machine-Learning-with-Python/blob/master/formula%20linear_reg%202d.png?raw=true\" alt=\"400\" width=\"600\" align=\"left\"/>\n"
   ]
  },
  {
   "cell_type": "markdown",
   "metadata": {},
   "source": [
    "## How Does it Work?\n",
    "Python has methods for finding a relationship between data-points and to draw a line of linear regression. We will show you how to use these methods instead of going through the mathematic formula.\n",
    "\n",
    "In the example below, the x-axis represents age, and the y-axis represents speed. We have registered the age and speed of 13 cars as they were passing a tollbooth. Let us see if the data we collected could be used in a linear regression:"
   ]
  },
  {
   "cell_type": "markdown",
   "metadata": {},
   "source": [
    "## Example"
   ]
  },
  {
   "cell_type": "code",
   "execution_count": 6,
   "metadata": {},
   "outputs": [],
   "source": [
    "import numpy as np\n",
    "import matplotlib.pyplot as plt\n",
    "from sklearn.model_selection import train_test_split # to split the dataset into training and testing sets\n",
    "from sklearn.linear_model import LinearRegression # to perform linear regression\n",
    "from sklearn.metrics import mean_squared_error, mean_absolute_error # to calculate the error\n",
    "import pandas as pd"
   ]
  },
  {
   "cell_type": "code",
   "execution_count": 7,
   "metadata": {},
   "outputs": [],
   "source": [
    "# Display information about the DataFrame\n",
    "# Ensures reproducibility by fixing the random seed (42 is the seed value). The seed is an integer that serves as \n",
    "# the starting point for the random number sequence\n",
    "np.random.seed(42) \n",
    "\n",
    "# array of 300 random integers between 0 and 60 (represents dog ages in months)\n",
    "ages = np.random.randint(0, 60, size=300)\n",
    "\n",
    "# weights array is generated using a linear relationship with ages array and additional random noise\n",
    "weights = 10 + 0.5 * ages + np.random.normal(0, 5, size=300)"
   ]
  },
  {
   "cell_type": "code",
   "execution_count": 8,
   "metadata": {},
   "outputs": [],
   "source": [
    "# Convert the generated data into a pandas DataFrame.\n",
    "df = pd.DataFrame({'Age': ages, 'Weight': weights})"
   ]
  },
  {
   "cell_type": "code",
   "execution_count": 9,
   "metadata": {},
   "outputs": [
    {
     "name": "stdout",
     "output_type": "stream",
     "text": [
      "DataFrame Shape: (300, 2)\n",
      "\n",
      "DataFrame Head:\n",
      "   Age     Weight\n",
      "0   38  26.532838\n",
      "1   51  40.115813\n",
      "2   28  32.533025\n",
      "3   14  21.367947\n",
      "4   42  31.045722\n",
      "\n",
      "DataFrame Description:\n",
      "              Age      Weight\n",
      "count  300.000000  300.000000\n",
      "mean    29.930000   25.826362\n",
      "std     17.793081   10.197088\n",
      "min      0.000000    1.645671\n",
      "25%     14.000000   18.017262\n",
      "50%     31.000000   26.183281\n",
      "75%     44.000000   33.768457\n",
      "max     59.000000   47.301901\n"
     ]
    }
   ],
   "source": [
    "# Display information about the DataFrame\n",
    "print(\"DataFrame Shape:\", df.shape)\n",
    "print(\"\\nDataFrame Head:\")\n",
    "print(df.head())\n",
    "print(\"\\nDataFrame Description:\")\n",
    "print(df.describe())"
   ]
  },
  {
   "cell_type": "code",
   "execution_count": 10,
   "metadata": {},
   "outputs": [],
   "source": [
    "# Reshape the data \n",
    "ages_reshaped = df['Age'].values.reshape(-1, 1)\n",
    "\n",
    "# ages_reshaped = ages.reshape(-1, 1)\n",
    "weights = df['Weight'].values"
   ]
  },
  {
   "cell_type": "markdown",
   "metadata": {},
   "source": [
    "The **reshape(-1, 1)** method is used to transform the one-dimensional array into a two-dimensional array with one column. The **-1** argument automatically infers the number of rows based on the array`s length."
   ]
  },
  {
   "cell_type": "code",
   "execution_count": 11,
   "metadata": {},
   "outputs": [],
   "source": [
    "# Split the data into training and testing sets\n",
    "X_train, X_test, y_train, y_test = train_test_split(ages_reshaped, weights, test_size=0.2, random_state=42)"
   ]
  },
  {
   "cell_type": "markdown",
   "metadata": {},
   "source": [
    "We utilized function **train_test_split** with parameters **test_size = 0.2** (20% of the data is for testing and 80% is for training) and **random_state = 42** (reproducibility in the split). **X_train** and **X_test** are the input features for training and testing, while **y_train** and **y_test** are the corresponding target values (labels) for training and testing."
   ]
  },
  {
   "cell_type": "code",
   "execution_count": 12,
   "metadata": {},
   "outputs": [
    {
     "data": {
      "text/html": [
       "<style>#sk-container-id-1 {color: black;}#sk-container-id-1 pre{padding: 0;}#sk-container-id-1 div.sk-toggleable {background-color: white;}#sk-container-id-1 label.sk-toggleable__label {cursor: pointer;display: block;width: 100%;margin-bottom: 0;padding: 0.3em;box-sizing: border-box;text-align: center;}#sk-container-id-1 label.sk-toggleable__label-arrow:before {content: \"▸\";float: left;margin-right: 0.25em;color: #696969;}#sk-container-id-1 label.sk-toggleable__label-arrow:hover:before {color: black;}#sk-container-id-1 div.sk-estimator:hover label.sk-toggleable__label-arrow:before {color: black;}#sk-container-id-1 div.sk-toggleable__content {max-height: 0;max-width: 0;overflow: hidden;text-align: left;background-color: #f0f8ff;}#sk-container-id-1 div.sk-toggleable__content pre {margin: 0.2em;color: black;border-radius: 0.25em;background-color: #f0f8ff;}#sk-container-id-1 input.sk-toggleable__control:checked~div.sk-toggleable__content {max-height: 200px;max-width: 100%;overflow: auto;}#sk-container-id-1 input.sk-toggleable__control:checked~label.sk-toggleable__label-arrow:before {content: \"▾\";}#sk-container-id-1 div.sk-estimator input.sk-toggleable__control:checked~label.sk-toggleable__label {background-color: #d4ebff;}#sk-container-id-1 div.sk-label input.sk-toggleable__control:checked~label.sk-toggleable__label {background-color: #d4ebff;}#sk-container-id-1 input.sk-hidden--visually {border: 0;clip: rect(1px 1px 1px 1px);clip: rect(1px, 1px, 1px, 1px);height: 1px;margin: -1px;overflow: hidden;padding: 0;position: absolute;width: 1px;}#sk-container-id-1 div.sk-estimator {font-family: monospace;background-color: #f0f8ff;border: 1px dotted black;border-radius: 0.25em;box-sizing: border-box;margin-bottom: 0.5em;}#sk-container-id-1 div.sk-estimator:hover {background-color: #d4ebff;}#sk-container-id-1 div.sk-parallel-item::after {content: \"\";width: 100%;border-bottom: 1px solid gray;flex-grow: 1;}#sk-container-id-1 div.sk-label:hover label.sk-toggleable__label {background-color: #d4ebff;}#sk-container-id-1 div.sk-serial::before {content: \"\";position: absolute;border-left: 1px solid gray;box-sizing: border-box;top: 0;bottom: 0;left: 50%;z-index: 0;}#sk-container-id-1 div.sk-serial {display: flex;flex-direction: column;align-items: center;background-color: white;padding-right: 0.2em;padding-left: 0.2em;position: relative;}#sk-container-id-1 div.sk-item {position: relative;z-index: 1;}#sk-container-id-1 div.sk-parallel {display: flex;align-items: stretch;justify-content: center;background-color: white;position: relative;}#sk-container-id-1 div.sk-item::before, #sk-container-id-1 div.sk-parallel-item::before {content: \"\";position: absolute;border-left: 1px solid gray;box-sizing: border-box;top: 0;bottom: 0;left: 50%;z-index: -1;}#sk-container-id-1 div.sk-parallel-item {display: flex;flex-direction: column;z-index: 1;position: relative;background-color: white;}#sk-container-id-1 div.sk-parallel-item:first-child::after {align-self: flex-end;width: 50%;}#sk-container-id-1 div.sk-parallel-item:last-child::after {align-self: flex-start;width: 50%;}#sk-container-id-1 div.sk-parallel-item:only-child::after {width: 0;}#sk-container-id-1 div.sk-dashed-wrapped {border: 1px dashed gray;margin: 0 0.4em 0.5em 0.4em;box-sizing: border-box;padding-bottom: 0.4em;background-color: white;}#sk-container-id-1 div.sk-label label {font-family: monospace;font-weight: bold;display: inline-block;line-height: 1.2em;}#sk-container-id-1 div.sk-label-container {text-align: center;}#sk-container-id-1 div.sk-container {/* jupyter's `normalize.less` sets `[hidden] { display: none; }` but bootstrap.min.css set `[hidden] { display: none !important; }` so we also need the `!important` here to be able to override the default hidden behavior on the sphinx rendered scikit-learn.org. See: https://github.com/scikit-learn/scikit-learn/issues/21755 */display: inline-block !important;position: relative;}#sk-container-id-1 div.sk-text-repr-fallback {display: none;}</style><div id=\"sk-container-id-1\" class=\"sk-top-container\"><div class=\"sk-text-repr-fallback\"><pre>LinearRegression()</pre><b>In a Jupyter environment, please rerun this cell to show the HTML representation or trust the notebook. <br />On GitHub, the HTML representation is unable to render, please try loading this page with nbviewer.org.</b></div><div class=\"sk-container\" hidden><div class=\"sk-item\"><div class=\"sk-estimator sk-toggleable\"><input class=\"sk-toggleable__control sk-hidden--visually\" id=\"sk-estimator-id-1\" type=\"checkbox\" checked><label for=\"sk-estimator-id-1\" class=\"sk-toggleable__label sk-toggleable__label-arrow\">LinearRegression</label><div class=\"sk-toggleable__content\"><pre>LinearRegression()</pre></div></div></div></div></div>"
      ],
      "text/plain": [
       "LinearRegression()"
      ]
     },
     "execution_count": 12,
     "metadata": {},
     "output_type": "execute_result"
    }
   ],
   "source": [
    "# Create an instance of the LinearRegression class\n",
    "model = LinearRegression()\n",
    "\n",
    "# Train the model on the training set\n",
    "model.fit(X_train, y_train)"
   ]
  },
  {
   "cell_type": "markdown",
   "metadata": {},
   "source": [
    "Linear regression model finds the best value for the intercept and slope, which results in a line that best fits the data. To retrieve the value of the intercept and slope / coefficients calculated by the linear regression algorithm for our dataset, execute the following script:"
   ]
  },
  {
   "cell_type": "code",
   "execution_count": 13,
   "metadata": {},
   "outputs": [
    {
     "name": "stdout",
     "output_type": "stream",
     "text": [
      "\n",
      "Coefficients: [0.49967695]\n",
      "Intercept: 10.731323827720102\n"
     ]
    }
   ],
   "source": [
    "# Get coefficients and intercept\n",
    "coefficients = model.coef_\n",
    "intercept = model.intercept_\n",
    "\n",
    "# Print coefficients and intercept\n",
    "print(f'\\nCoefficients: {coefficients}') # Out: Coefficients: [0.49967695]\n",
    "print(f'Intercept: {intercept}') # Out: Intercept: 10.731323827720102"
   ]
  },
  {
   "cell_type": "code",
   "execution_count": 14,
   "metadata": {},
   "outputs": [],
   "source": [
    "# Make predictions on the test set\n",
    "y_pred = model.predict(X_test)"
   ]
  },
  {
   "cell_type": "markdown",
   "metadata": {},
   "source": [
    "For regression algorithms three evaluation indicators are usually used: Mean Squarred Error (MSE), Mean Absolute Error (MAE), Root Mean Squared Error (RMSE). Execute these functions in order to get information about mentioned errors. The results provide a quantitative measure of how well the model performs on the test set."
   ]
  },
  {
   "cell_type": "code",
   "execution_count": 15,
   "metadata": {},
   "outputs": [
    {
     "name": "stdout",
     "output_type": "stream",
     "text": [
      "Mean Squared Error: 21.32477052321913\n",
      "Mean Absolute Error: 3.9370489509407145\n",
      "Root Mean Squared Error: 4.617875109097162\n"
     ]
    }
   ],
   "source": [
    "# Calculate Mean Squarred Error (MSE)\n",
    "mse = mean_squared_error(y_test, y_pred)\n",
    "print(f'Mean Squared Error: {mse}') # Out: Mean Squared Error: 21.32477052321913\n",
    "\n",
    "# Calculate Mean Absolute Error (MAE)\n",
    "mae = mean_absolute_error(y_test, y_pred)\n",
    "print(f'Mean Absolute Error: {mae}') # Out: Mean Absolute Error: 3.9370489509407145\n",
    "\n",
    "# Calculate Root Mean Squared Error (RMSE)\n",
    "rmse = np.sqrt(mse)\n",
    "print(f'Root Mean Squared Error: {rmse}') # Out: Root Mean Squared Error: 4.617875109097162"
   ]
  },
  {
   "cell_type": "code",
   "execution_count": 16,
   "metadata": {},
   "outputs": [
    {
     "data": {
      "image/png": "[encoded data removed]",
      "text/plain": [
       "<Figure size 640x480 with 1 Axes>"
      ]
     },
     "metadata": {},
     "output_type": "display_data"
    }
   ],
   "source": [
    "# Plot the results\n",
    "plt.scatter(X_test, y_test, label='Testing Set', color='blue') # original data points of test dataset\n",
    "plt.plot(X_test, y_pred, color='red', label='Linear Regression Line') # linear regression line\n",
    "plt.xlabel('Age (months)')\n",
    "plt.ylabel('Weight (kg)')\n",
    "plt.title('Linear Regression Example for Dog Weights')\n",
    "plt.legend()\n",
    "plt.show()"
   ]
  },
  {
   "cell_type": "markdown",
   "metadata": {},
   "source": [
    "### Advantages of linear regression\n",
    "- Simplicity: Linear regression is straightforward and easy to understand.\n",
    "- Clear insights: Coefficients provide clear insights into variable relationships.\n",
    "- Efficiency: Computationally efficient, especially with large datasets.\n",
    "- Versatility: No strict assumptions about variable distribution.\n",
    "- Feature selection: Useful for selecting important features."
   ]
  },
  {
   "cell_type": "markdown",
   "metadata": {},
   "source": [
    "### Disadvantages of linear regression\n",
    "- Linearity assumption: Effective only for linear relationships.\n",
    "- Outlier sensitivity: Impactful sensitivity to outliers.\n",
    "- Assumption challenges: Assumes independence and homoscedasticity.\n",
    "- Multicollinearity issues: Problems with highly correlated independent variables.\n",
    "- Categorical data handling: Not ideal for categorical data without adjustments.\n",
    "- Overfitting/Underfitting: Vulnerable to overfitting or underfitting without regularization."
   ]
  }
 ],
 "metadata": {
  "kernelspec": {
   "display_name": "Python 3 (ipykernel)",
   "language": "python",
   "name": "python3"
  },
  "language_info": {
   "codemirror_mode": {
    "name": "ipython",
    "version": 3
   },
   "file_extension": ".py",
   "mimetype": "text/x-python",
   "name": "python",
   "nbconvert_exporter": "python",
   "pygments_lexer": "ipython3",
   "version": "3.12.0"
  }
 },
 "nbformat": 4,
 "nbformat_minor": 4
}

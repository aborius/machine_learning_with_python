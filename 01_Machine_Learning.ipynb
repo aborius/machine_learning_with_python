{
 "cells": [
  {
   "cell_type": "markdown",
   "metadata": {},
   "source": [
    "# Machine Learning with Python\n",
    "\n",
    "***By Alex Borio***"
   ]
  },
  {
   "cell_type": "markdown",
   "metadata": {},
   "source": [
    "## Introduzione al Machine Learning"
   ]
  },
  {
   "cell_type": "markdown",
   "metadata": {},
   "source": [
    "### What is Machine Learning? \n",
    "\n",
    "\"Machine learning is a subset of artificial intelligence (AI) and computer science which focuses on the use of data and algorithms to imitate the way that humans learn.\"\n",
    "\n",
    "***-IBM***\n",
    "\n",
    "<u>Thanks to Machine learning we are able to build systems that can learn from historical data, identify patterns, and make logical decisions with little to no human intervention.</u>\n",
    "\n",
    "### Why is it so important nowadays?\n",
    "\n",
    "- <u>Machine learning is growing in importance due to increasingly enormous volumes and variety of data, the access and affordability of computational power, and the availability of high speed Internet. </u>\n",
    "\n",
    "- These digital transformation factors make it possible for one to rapidly and automatically **develop models that can quickly and accurately analyze extraordinarily large and complex data sets.**\n",
    "\n",
    "### Machine learning is behind:\n",
    "\n",
    "- Chatbots and predictive text, \n",
    "- Language translation apps, \n",
    "- The shows Netflix suggests to you, and how your social media feeds are presented.\n",
    "- Fraud Detection\n",
    "- Self-Driving Cars\n",
    "- Healthcare\n",
    "- Process Automation"
   ]
  },
  {
   "cell_type": "markdown",
   "metadata": {},
   "source": [
    "## Different types of Machine Learning"
   ]
  },
  {
   "cell_type": "markdown",
   "metadata": {},
   "source": [
    "### 1. Supervised Machine Learning\n",
    "\n",
    "The main difference between supervised and unsupervised learning: Labeled data!\n",
    "\n",
    "<u>Supervised learning uses labeled input and output data</u>, while an unsupervised learning algorithm does not.\n",
    "\n",
    "<u>To put it simply, labeled data contains a collection of variables (features) and a specific output that we are trying to predict.</u>\n",
    "\n",
    "The reason it is called supervised machine learning is because at least part of <u>this approach requires human oversight. </u>\n",
    "\n",
    "Supervised Learning deals with **two types of problem:** <u>Regression problems and Classification problems.</u>\n",
    "\n",
    "\n",
    "**Examples of supervised learning include:**\n",
    "\n",
    "- Linear regression\n",
    "- Logistic regression\n",
    "- K-Nearest Neighbors (KNN) \n",
    "- Support vector machines (SVM)\n",
    "- Decision trees\n",
    "- Random Forest\n",
    "- Naive Bayes"
   ]
  },
  {
   "cell_type": "markdown",
   "metadata": {},
   "source": [
    "#### Regression VS Classification\n",
    "    \n",
    "**Regression and Classification algorithms are Supervised Learning algorithms**. Both the algorithms are used for prediction in Machine learning and work with the labeled datasets. \n",
    "\n",
    "<u>The main difference between Regression and Classification algorithms</u> is that **<u>Regression algorithms are used to predict the continuous values</u>** such as price, salary, age, etc. and **<u>Classification algorithms are used to predict/Classify the discrete values</u>** such as Male or Female, True or False, Spam or Not Spam, etc."
   ]
  },
  {
   "cell_type": "markdown",
   "metadata": {},
   "source": [
    "<img src=\"https://miro.medium.com/max/775/1*Qn4eJPhkvrEQ62CtmydLZw.png\" alt=\"300\" width=\"450\" align=\"left\"/>\n"
   ]
  },
  {
   "cell_type": "markdown",
   "metadata": {},
   "source": [
    "### 2. Unsupervised Machine Learning\n",
    "\n",
    "Unsupervised machine learning is the training of models on raw and unlabelled training data.\n",
    "\n",
    "It is often <u>used to identify patterns and trends in raw datasets, or to cluster similar data into a specific number of groups.</u>\n",
    "\n",
    "It’s also often an approach used in the early exploratory phase to better understand the datasets.  \n",
    "\n",
    "**Examples of unsupervised learning include:**\n",
    "\n",
    "- K – Means clustering\n",
    "- Principal Component Analysis (PCA)"
   ]
  },
  {
   "cell_type": "markdown",
   "metadata": {},
   "source": [
    "### 3. Reinforcement Learning\n",
    "\n",
    "<u>Reinforcement learning is a technique that provides training feedback using a reward mechanism.</u>\n",
    "\n",
    "Reinforcement learning does not require labeled data as does supervised learning. Further still, it doesn’t even use an unlabeled dataset as would unsupervised learning. \n",
    "\n",
    "The learning process occurs as a machine, or **Agent, that interacts with an environment and tries a variety of methods to reach an outcome.** <u>The Agent is rewarded or punished when it reaches a desirable or undesirable State.</u> \n",
    "\n",
    "<u>There is always a start state and an end state. However, to reach the end state, there might be a different path.</u>\n",
    "\n",
    "***In Reinforcement Learning Problem an agent tries to manipulate the environment.*** \n",
    "\n",
    "The agent travels from one state to another. The agent gets the reward(appreciation) on success but will not receive any reward or appreciation on failure. <u>**In this way, the agent learns from the environment.**</u>\n",
    "\n",
    "**Some applications of reinforcement learning are:**\n",
    "\n",
    "- Robotics\n",
    "- Autonomous driving\n",
    "- Gaming"
   ]
  },
  {
   "cell_type": "markdown",
   "metadata": {},
   "source": [
    "<img src=\"https://github.com/lorisliusso/Machine-Learning-with-Python/blob/master/Machine_Learning_map.png?raw=true\" alt=\"300\" width=\"800\" align=\"left\"/>"
   ]
  }
 ],
 "metadata": {
  "kernelspec": {
   "display_name": "Python 3 (ipykernel)",
   "language": "python",
   "name": "python3"
  },
  "language_info": {
   "codemirror_mode": {
    "name": "ipython",
    "version": 3
   },
   "file_extension": ".py",
   "mimetype": "text/x-python",
   "name": "python",
   "nbconvert_exporter": "python",
   "pygments_lexer": "ipython3",
   "version": "3.9.7"
  }
 },
 "nbformat": 4,
 "nbformat_minor": 4
}
